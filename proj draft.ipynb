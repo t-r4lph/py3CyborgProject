{
 "cells": [
  {
   "cell_type": "code",
   "execution_count": 1,
   "id": "14f11fb4",
   "metadata": {},
   "outputs": [
    {
     "name": "stdout",
     "output_type": "stream",
     "text": [
      "People:  ||||||||||||||| 15/30\n",
      "Church:  ||||||||||||||| 15/30\n",
      "Army:    ||||||||||||||| 15/30\n",
      "Treasury: ||||||||||||||| 15/30\n",
      "\n",
      "Scenario 3:\n",
      "The neighboring kingdom has requested a trade agreement. What should we offer?\n",
      "1. Offer to trade food in exchange for gold\n",
      "2. Offer to trade weapons in exchange for food\n",
      "2\n",
      "\n",
      "Updated stats:\n",
      "People:  |||||||||||| 12/30\n",
      "Church:  ||||||||||||||| 15/30\n",
      "Army:    |||||||||||||||||||| 20/30\n",
      "Treasury: |||||||||||||||||||| 20/30\n"
     ]
    }
   ],
   "source": [
    "import random\n",
    "\n",
    "# initialize stats\n",
    "people = 15\n",
    "church = 15\n",
    "army = 15\n",
    "treasury = 15\n",
    "\n",
    "# print initial stats\n",
    "print(\"People: \", \"|\" * people, f\"{people}/30\")\n",
    "print(\"Church: \", \"|\" * church, f\"{church}/30\")\n",
    "print(\"Army:   \", \"|\" * army, f\"{army}/30\")\n",
    "print(\"Treasury:\", \"|\" * treasury, f\"{treasury}/30\")\n",
    "\n",
    "# generate random scenario\n",
    "scenario = random.randint(0, 2)\n",
    "print(f\"\\nScenario {scenario+1}:\")\n",
    "\n",
    "# modify stats based on scenario\n",
    "if scenario == 0:\n",
    "    print(\"A dragon has been sighted near the kingdom. What should we do?\")\n",
    "    print(\"1. Send the army to fight the dragon\")\n",
    "    print(\"2. Hire a group of adventurers to fight the dragon\")\n",
    "    choice = int(input())\n",
    "    if choice == 1:\n",
    "        army -= 5\n",
    "        treasury -= 5\n",
    "    else:\n",
    "        church -= 5\n",
    "        treasury -= 5\n",
    "elif scenario == 1:\n",
    "    print(\"A group of refugees have arrived at the kingdom's borders. What should we do?\")\n",
    "    print(\"1. Let them in and provide them with food and shelter\")\n",
    "    print(\"2. Turn them away to avoid burdening the kingdom's resources\")\n",
    "    choice = int(input())\n",
    "    if choice == 1:\n",
    "        people += 5\n",
    "        treasury -= 5\n",
    "    else:\n",
    "        people -= 5\n",
    "        army += 5\n",
    "elif scenario == 2:\n",
    "    print(\"The neighboring kingdom has requested a trade agreement. What should we offer?\")\n",
    "    print(\"1. Offer to trade food in exchange for gold\")\n",
    "    print(\"2. Offer to trade weapons in exchange for food\")\n",
    "    choice = int(input())\n",
    "    if choice == 1:\n",
    "        people += 3\n",
    "        treasury += 3\n",
    "        church -= 3\n",
    "    else:\n",
    "        army += 5\n",
    "        treasury += 5\n",
    "        people -= 3\n",
    "\n",
    "# print updated stats\n",
    "print(\"\\nUpdated stats:\")\n",
    "print(\"People: \", \"|\" * people, f\"{people}/30\")\n",
    "print(\"Church: \", \"|\" * church, f\"{church}/30\")\n",
    "print(\"Army:   \", \"|\" * army, f\"{army}/30\")\n",
    "print(\"Treasury:\", \"|\" * treasury, f\"{treasury}/30\")"
   ]
  },
  {
   "cell_type": "code",
   "execution_count": null,
   "id": "463e4045",
   "metadata": {},
   "outputs": [],
   "source": []
  }
 ],
 "metadata": {
  "kernelspec": {
   "display_name": "Python 3 (ipykernel)",
   "language": "python",
   "name": "python3"
  },
  "language_info": {
   "codemirror_mode": {
    "name": "ipython",
    "version": 3
   },
   "file_extension": ".py",
   "mimetype": "text/x-python",
   "name": "python",
   "nbconvert_exporter": "python",
   "pygments_lexer": "ipython3",
   "version": "3.9.13"
  }
 },
 "nbformat": 4,
 "nbformat_minor": 5
}
